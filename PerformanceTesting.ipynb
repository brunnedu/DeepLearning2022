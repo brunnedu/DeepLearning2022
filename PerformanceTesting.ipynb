{
 "cells": [
  {
   "cell_type": "code",
   "execution_count": 1,
   "id": "ee240cab-457d-49a8-a4c6-b9d5255db4a9",
   "metadata": {},
   "outputs": [],
   "source": [
    "%load_ext autoreload\n",
    "%autoreload 2"
   ]
  },
  {
   "cell_type": "code",
   "execution_count": 2,
   "id": "78e5eb12-9806-4b59-894e-4915fd5c985f",
   "metadata": {},
   "outputs": [],
   "source": [
    "%load_ext snakeviz"
   ]
  },
  {
   "cell_type": "code",
   "execution_count": 3,
   "id": "4c7ed637-d540-4b24-8b37-db5295e5d08c",
   "metadata": {},
   "outputs": [
    {
     "data": {
      "text/plain": [
       "<torch._C.Generator at 0x110365850>"
      ]
     },
     "execution_count": 3,
     "metadata": {},
     "output_type": "execute_result"
    }
   ],
   "source": [
    "import torch\n",
    "import torchvision\n",
    "from torchvision.io import ImageReadMode\n",
    "from torchvision import transforms\n",
    "import torchvision.transforms.functional as TF\n",
    "from torchvision.transforms import Compose, RandomResizedCrop, RandomGrayscale, RandomHorizontalFlip, GaussianBlur, ColorJitter, RandomSolarize, ToPILImage, ToTensor, RandomCrop, CenterCrop, Resize, Normalize\n",
    "\n",
    "# set torch seed for reproducibility when using random image augmentations\n",
    "torch.manual_seed(0)"
   ]
  },
  {
   "cell_type": "code",
   "execution_count": 4,
   "id": "ac45ac18-8c0a-4f59-bf04-76e9e8b75191",
   "metadata": {},
   "outputs": [],
   "source": [
    "from src.dataset import OurPatchLocalizationDataset, OriginalPatchLocalizationDataset, image_to_patches\n",
    "from src.transforms import RandomColorDropping, ColorProjection, IMAGENET_NORMALIZATION_PARAMS, IMAGENET_RESIZE"
   ]
  },
  {
   "cell_type": "code",
   "execution_count": 5,
   "id": "aeb26243-de45-40c5-bd98-159319ef2061",
   "metadata": {},
   "outputs": [],
   "source": [
    "from typing import List, Union, Tuple\n",
    "import PIL\n",
    "import numpy as np\n",
    "import pandas as pd\n",
    "import os\n",
    "from matplotlib import pyplot as plt"
   ]
  },
  {
   "cell_type": "code",
   "execution_count": 6,
   "id": "912c6b72-b8ac-476d-a525-f04f40e40bf0",
   "metadata": {},
   "outputs": [],
   "source": [
    "# load image paths of a previously sampled subset of ImageNet\n",
    "image_paths = np.loadtxt(\"./data/imagenet_validation_RGB_10perc_subset.csv\", dtype=str)"
   ]
  },
  {
   "cell_type": "code",
   "execution_count": 7,
   "id": "43f13696-f2fa-431d-854a-d1df61f6e98d",
   "metadata": {},
   "outputs": [],
   "source": [
    "ds_orig_cache = OriginalPatchLocalizationDataset(image_paths, cache_images=True)\n",
    "ds_orig_no_cache = OriginalPatchLocalizationDataset(image_paths, cache_images=False)"
   ]
  },
  {
   "cell_type": "code",
   "execution_count": 8,
   "id": "e9f8b24e-0b03-4714-885a-6f5d22f4e4cb",
   "metadata": {},
   "outputs": [],
   "source": [
    "ds_our_cache = OurPatchLocalizationDataset(image_paths, cache_images=True)\n",
    "ds_our_no_cache = OurPatchLocalizationDataset(image_paths, cache_images=False)"
   ]
  },
  {
   "cell_type": "code",
   "execution_count": 9,
   "id": "bf179681-3c2d-4214-b3c9-05b934b6f8f8",
   "metadata": {
    "collapsed": true,
    "jupyter": {
     "outputs_hidden": true
    },
    "tags": []
   },
   "outputs": [
    {
     "data": {
      "text/plain": [
       "([tensor([[[ 1.2928,  1.2928,  1.2129,  ..., -0.2674, -0.2941, -0.2941],\n",
       "           [ 1.2928,  1.2928,  1.2129,  ..., -0.2674, -0.2941, -0.2941],\n",
       "           [ 1.2064,  1.2064,  1.1425,  ..., -0.2963, -0.3266, -0.3266],\n",
       "           ...,\n",
       "           [-1.1999, -1.1999, -1.1944,  ..., -1.8341, -1.9170, -1.9170],\n",
       "           [-1.2189, -1.2189, -1.2039,  ..., -1.8475, -1.9295, -1.9295],\n",
       "           [-1.2189, -1.2189, -1.2039,  ..., -1.8475, -1.9295, -1.9295]],\n",
       "  \n",
       "          [[ 1.1972,  1.1972,  1.1177,  ..., -0.3353, -0.3550, -0.3550],\n",
       "           [ 1.1972,  1.1972,  1.1177,  ..., -0.3353, -0.3550, -0.3550],\n",
       "           [ 1.1090,  1.1090,  1.0460,  ..., -0.3647, -0.3871, -0.3871],\n",
       "           ...,\n",
       "           [-1.2056, -1.2056, -1.2000,  ..., -1.6886, -1.7592, -1.7592],\n",
       "           [-1.2304, -1.2304, -1.2151,  ..., -1.7045, -1.7731, -1.7731],\n",
       "           [-1.2304, -1.2304, -1.2151,  ..., -1.7045, -1.7731, -1.7731]],\n",
       "  \n",
       "          [[ 1.1614,  1.1614,  1.0844,  ..., -0.3023, -0.3142, -0.3142],\n",
       "           [ 1.1614,  1.1614,  1.0844,  ..., -0.3023, -0.3142, -0.3142],\n",
       "           [ 1.0736,  1.0736,  1.0131,  ..., -0.3312, -0.3451, -0.3451],\n",
       "           ...,\n",
       "           [-1.0859, -1.0859, -1.0805,  ..., -1.4021, -1.4584, -1.4584],\n",
       "           [-1.1160, -1.1160, -1.1007,  ..., -1.4203, -1.4733, -1.4733],\n",
       "           [-1.1160, -1.1160, -1.1007,  ..., -1.4203, -1.4733, -1.4733]]]),\n",
       "  tensor([[[ 1.2500,  1.2500,  1.1936,  ..., -1.2581, -1.2674, -1.2674],\n",
       "           [ 1.2500,  1.2500,  1.1936,  ..., -1.2581, -1.2674, -1.2674],\n",
       "           [ 1.2803,  1.2803,  1.2292,  ..., -1.2860, -1.3141, -1.3141],\n",
       "           ...,\n",
       "           [-0.3369, -0.3369, -0.3626,  ...,  0.6786,  0.6260,  0.6260],\n",
       "           [-0.3284, -0.3284, -0.3583,  ...,  0.6542,  0.5935,  0.5935],\n",
       "           [-0.3284, -0.3284, -0.3583,  ...,  0.6542,  0.5935,  0.5935]],\n",
       "  \n",
       "          [[ 1.2848,  1.2848,  1.2184,  ..., -1.1414, -1.1662, -1.1662],\n",
       "           [ 1.2848,  1.2848,  1.2184,  ..., -1.1414, -1.1662, -1.1662],\n",
       "           [ 1.3169,  1.3169,  1.2564,  ..., -1.1766, -1.2195, -1.2195],\n",
       "           ...,\n",
       "           [-0.2981, -0.2981, -0.3260,  ...,  0.4578,  0.3810,  0.3810],\n",
       "           [-0.2850, -0.2850, -0.3178,  ...,  0.4568,  0.3686,  0.3686],\n",
       "           [-0.2850, -0.2850, -0.3178,  ...,  0.4568,  0.3686,  0.3686]],\n",
       "  \n",
       "          [[ 1.3793,  1.3793,  1.3045,  ..., -0.8989, -0.9388, -0.9388],\n",
       "           [ 1.3793,  1.3793,  1.3045,  ..., -0.8989, -0.9388, -0.9388],\n",
       "           [ 1.4123,  1.4123,  1.3440,  ..., -0.9406, -0.9973, -0.9973],\n",
       "           ...,\n",
       "           [-0.1574, -0.1574, -0.1868,  ...,  0.3143,  0.2148,  0.2148],\n",
       "           [-0.1400, -0.1400, -0.1748,  ...,  0.3372,  0.2232,  0.2232],\n",
       "           [-0.1400, -0.1400, -0.1748,  ...,  0.3372,  0.2232,  0.2232]]])],\n",
       " tensor([4]))"
      ]
     },
     "execution_count": 9,
     "metadata": {},
     "output_type": "execute_result"
    }
   ],
   "source": [
    "ds_orig_cache[0]"
   ]
  },
  {
   "cell_type": "code",
   "execution_count": 10,
   "id": "39b6aa5b-a8b6-48bf-bc80-5a44299604a5",
   "metadata": {
    "collapsed": true,
    "jupyter": {
     "outputs_hidden": true
    },
    "tags": []
   },
   "outputs": [
    {
     "data": {
      "text/plain": [
       "([tensor([[[ 0.8475,  0.8475,  0.7833,  ...,  0.2196,  0.2367,  0.2367],\n",
       "           [ 0.8475,  0.8475,  0.7833,  ...,  0.2196,  0.2367,  0.2367],\n",
       "           [ 0.8504,  0.8504,  0.7950,  ...,  0.2056,  0.2218,  0.2218],\n",
       "           ...,\n",
       "           [-1.1229, -1.1229, -1.1490,  ..., -1.6760, -1.6873, -1.6873],\n",
       "           [-1.1218, -1.1218, -1.1493,  ..., -1.7308, -1.7297, -1.7297],\n",
       "           [-1.1218, -1.1218, -1.1493,  ..., -1.7308, -1.7297, -1.7297]],\n",
       "  \n",
       "          [[ 0.6370,  0.6370,  0.5714,  ...,  0.0454,  0.0651,  0.0651],\n",
       "           [ 0.6370,  0.6370,  0.5714,  ...,  0.0454,  0.0651,  0.0651],\n",
       "           [ 0.6443,  0.6443,  0.5877,  ...,  0.0393,  0.0586,  0.0586],\n",
       "           ...,\n",
       "           [-1.0962, -1.0962, -1.1237,  ..., -1.5902, -1.6053, -1.6053],\n",
       "           [-1.0787, -1.0787, -1.1078,  ..., -1.6367, -1.6389, -1.6389],\n",
       "           [-1.0787, -1.0787, -1.1078,  ..., -1.6367, -1.6389, -1.6389]],\n",
       "  \n",
       "          [[ 0.4991,  0.4991,  0.4338,  ..., -0.0397, -0.0180, -0.0180],\n",
       "           [ 0.4991,  0.4991,  0.4338,  ..., -0.0397, -0.0180, -0.0180],\n",
       "           [ 0.5107,  0.5107,  0.4544,  ..., -0.0377, -0.0158, -0.0158],\n",
       "           ...,\n",
       "           [-0.9464, -0.9464, -0.9747,  ..., -1.3672, -1.3858, -1.3858],\n",
       "           [-0.9127, -0.9127, -0.9428,  ..., -1.4039, -1.4094, -1.4094],\n",
       "           [-0.9127, -0.9127, -0.9428,  ..., -1.4039, -1.4094, -1.4094]]]),\n",
       "  tensor([[[-0.7550, -0.8348, -0.6664,  ...,  0.7265,  0.7497,  0.7480],\n",
       "           [-0.6382, -0.7193, -0.5704,  ...,  0.6440,  0.6690,  0.6721],\n",
       "           [-0.5189, -0.6013, -0.4723,  ...,  0.5598,  0.5864,  0.5945],\n",
       "           ...,\n",
       "           [-0.3239, -0.3017, -0.2854,  ..., -0.9453, -1.0542, -1.0459],\n",
       "           [-0.1123, -0.1090, -0.1280,  ..., -0.6840, -0.8199, -0.8944],\n",
       "           [ 0.0876,  0.0756,  0.0260,  ..., -0.4282, -0.5905, -0.7460]],\n",
       "  \n",
       "          [[-0.7736, -0.8561, -0.6934,  ...,  0.5063,  0.5364,  0.5374],\n",
       "           [-0.6714, -0.7552, -0.6091,  ...,  0.4261,  0.4557,  0.4622],\n",
       "           [-0.5671, -0.6522, -0.5230,  ...,  0.3441,  0.3732,  0.3854],\n",
       "           ...,\n",
       "           [-0.2539, -0.2199, -0.2080,  ..., -1.0414, -1.1552, -1.1723],\n",
       "           [-0.0644, -0.0501, -0.0715,  ..., -0.8066, -0.9437, -1.0352],\n",
       "           [ 0.1169,  0.1138,  0.0622,  ..., -0.5768, -0.7367, -0.9010]],\n",
       "  \n",
       "          [[-0.6785, -0.7615, -0.6090,  ...,  0.3621,  0.3983,  0.4020],\n",
       "           [-0.5940, -0.6783, -0.5389,  ...,  0.2862,  0.3198,  0.3296],\n",
       "           [-0.5077, -0.5933, -0.4673,  ...,  0.2087,  0.2396,  0.2556],\n",
       "           ...,\n",
       "           [-0.0824, -0.0374, -0.0303,  ..., -1.0180, -1.1338, -1.1763],\n",
       "           [ 0.0795,  0.1045,  0.0813,  ..., -0.8166, -0.9513, -1.0576],\n",
       "           [ 0.2369,  0.2429,  0.1906,  ..., -0.6194, -0.7726, -0.9414]]]),\n",
       "  tensor([[[-0.3170, -0.5409, -0.7701,  ..., -0.1184, -0.2364, -0.2364],\n",
       "           [-0.2733, -0.4536, -0.6382,  ..., -0.1653, -0.2589, -0.2589],\n",
       "           [-0.2277, -0.3626, -0.5007,  ..., -0.2142, -0.2823, -0.2823],\n",
       "           ...,\n",
       "           [-0.4215, -0.2459, -0.0661,  ...,  0.0736,  0.1375,  0.1375],\n",
       "           [-0.1131,  0.0079,  0.1317,  ...,  0.1215,  0.1401,  0.1401],\n",
       "           [ 0.1827,  0.2512,  0.3214,  ...,  0.1849,  0.1699,  0.1699]],\n",
       "  \n",
       "          [[-0.1946, -0.4235, -0.6578,  ...,  0.0084, -0.1122, -0.1122],\n",
       "           [-0.1499, -0.3342, -0.5230,  ..., -0.0396, -0.1352, -0.1352],\n",
       "           [-0.1033, -0.2412, -0.3824,  ..., -0.0896, -0.1592, -0.1592],\n",
       "           ...,\n",
       "           [-0.3014, -0.1219,  0.0619,  ...,  0.2047,  0.2700,  0.2700],\n",
       "           [ 0.0139,  0.1375,  0.2641,  ...,  0.2536,  0.2727,  0.2727],\n",
       "           [ 0.3162,  0.3863,  0.4580,  ...,  0.3185,  0.3031,  0.3031]],\n",
       "  \n",
       "          [[ 0.0285, -0.1994, -0.4327,  ...,  0.2306,  0.1106,  0.1106],\n",
       "           [ 0.0730, -0.1105, -0.2985,  ...,  0.1828,  0.0877,  0.0877],\n",
       "           [ 0.1194, -0.0179, -0.1585,  ...,  0.1331,  0.0638,  0.0638],\n",
       "           ...,\n",
       "           [-0.0779,  0.1008,  0.2838,  ...,  0.4260,  0.4910,  0.4910],\n",
       "           [ 0.2360,  0.3591,  0.4852,  ...,  0.4747,  0.4937,  0.4937],\n",
       "           [ 0.5370,  0.6068,  0.6782,  ...,  0.5393,  0.5240,  0.5240]]])],\n",
       " tensor([2]))"
      ]
     },
     "execution_count": 10,
     "metadata": {},
     "output_type": "execute_result"
    }
   ],
   "source": [
    "ds_our_cache[0]"
   ]
  },
  {
   "cell_type": "code",
   "execution_count": 11,
   "id": "d7efd2fa-302a-483a-955c-9953e9801c38",
   "metadata": {},
   "outputs": [
    {
     "name": "stdout",
     "output_type": "stream",
     "text": [
      "696 µs ± 12.5 µs per loop (mean ± std. dev. of 7 runs, 1,000 loops each)\n"
     ]
    }
   ],
   "source": [
    "%%timeit\n",
    "ds_orig_cache[0]"
   ]
  },
  {
   "cell_type": "code",
   "execution_count": 12,
   "id": "d38767dc-5c4d-4bee-a67b-064272799d09",
   "metadata": {},
   "outputs": [
    {
     "name": "stdout",
     "output_type": "stream",
     "text": [
      "4.88 ms ± 451 µs per loop (mean ± std. dev. of 7 runs, 100 loops each)\n"
     ]
    }
   ],
   "source": [
    "%%timeit\n",
    "ds_orig_no_cache[0]"
   ]
  },
  {
   "cell_type": "code",
   "execution_count": 13,
   "id": "15de4dbf-4d05-4044-a296-72c6caef419e",
   "metadata": {},
   "outputs": [
    {
     "name": "stdout",
     "output_type": "stream",
     "text": [
      "55.8 ms ± 2.25 ms per loop (mean ± std. dev. of 7 runs, 10 loops each)\n"
     ]
    }
   ],
   "source": [
    "%%timeit\n",
    "ds_our_cache[0]"
   ]
  },
  {
   "cell_type": "code",
   "execution_count": 16,
   "id": "c5eb63ce-692c-464a-9236-d01170dae371",
   "metadata": {},
   "outputs": [
    {
     "name": "stdout",
     "output_type": "stream",
     "text": [
      "60.2 ms ± 1.22 ms per loop (mean ± std. dev. of 7 runs, 10 loops each)\n"
     ]
    }
   ],
   "source": [
    "%%timeit\n",
    "ds_our_no_cache[0]"
   ]
  },
  {
   "cell_type": "code",
   "execution_count": 17,
   "id": "576f167c-7e52-4408-92ab-4a32367088b3",
   "metadata": {},
   "outputs": [
    {
     "name": "stdout",
     "output_type": "stream",
     "text": [
      " \n",
      "*** Profile stats marshalled to file '/var/folders/1p/dx2hbmg90j579twjxstztgvh0000gn/T/tmp7os49oye'.\n",
      "Embedding SnakeViz in this document...\n"
     ]
    },
    {
     "data": {
      "text/html": [
       "\n",
       "<iframe id='snakeviz-de492f1c-7280-11ed-9f48-dea99b069103' frameborder=0 seamless width='100%' height='1000'></iframe>\n",
       "<script>document.getElementById(\"snakeviz-de492f1c-7280-11ed-9f48-dea99b069103\").setAttribute(\"src\", \"http://\" + document.location.hostname + \":8080/snakeviz/%2Fvar%2Ffolders%2F1p%2Fdx2hbmg90j579twjxstztgvh0000gn%2FT%2Ftmp7os49oye\")</script>\n"
      ],
      "text/plain": [
       "<IPython.core.display.HTML object>"
      ]
     },
     "metadata": {},
     "output_type": "display_data"
    }
   ],
   "source": [
    "%%snakeviz\n",
    "ds_orig_cache[0]"
   ]
  },
  {
   "cell_type": "code",
   "execution_count": 18,
   "id": "24e9abd1-06eb-4e3e-b85f-bcad2abf7ebf",
   "metadata": {},
   "outputs": [
    {
     "name": "stdout",
     "output_type": "stream",
     "text": [
      " \n",
      "*** Profile stats marshalled to file '/var/folders/1p/dx2hbmg90j579twjxstztgvh0000gn/T/tmpv4oit3_3'.\n",
      "Embedding SnakeViz in this document...\n"
     ]
    },
    {
     "data": {
      "text/html": [
       "\n",
       "<iframe id='snakeviz-e0430ee6-7280-11ed-9f48-dea99b069103' frameborder=0 seamless width='100%' height='1000'></iframe>\n",
       "<script>document.getElementById(\"snakeviz-e0430ee6-7280-11ed-9f48-dea99b069103\").setAttribute(\"src\", \"http://\" + document.location.hostname + \":8080/snakeviz/%2Fvar%2Ffolders%2F1p%2Fdx2hbmg90j579twjxstztgvh0000gn%2FT%2Ftmpv4oit3_3\")</script>\n"
      ],
      "text/plain": [
       "<IPython.core.display.HTML object>"
      ]
     },
     "metadata": {},
     "output_type": "display_data"
    }
   ],
   "source": [
    "%%snakeviz\n",
    "ds_orig_no_cache[0]"
   ]
  },
  {
   "cell_type": "code",
   "execution_count": 19,
   "id": "393e24a6-7276-4b13-ae22-aaabf4967b17",
   "metadata": {},
   "outputs": [
    {
     "name": "stdout",
     "output_type": "stream",
     "text": [
      " \n",
      "*** Profile stats marshalled to file '/var/folders/1p/dx2hbmg90j579twjxstztgvh0000gn/T/tmpoiwluvmt'.\n",
      "Embedding SnakeViz in this document...\n"
     ]
    },
    {
     "data": {
      "text/html": [
       "\n",
       "<iframe id='snakeviz-e240a21c-7280-11ed-9f48-dea99b069103' frameborder=0 seamless width='100%' height='1000'></iframe>\n",
       "<script>document.getElementById(\"snakeviz-e240a21c-7280-11ed-9f48-dea99b069103\").setAttribute(\"src\", \"http://\" + document.location.hostname + \":8080/snakeviz/%2Fvar%2Ffolders%2F1p%2Fdx2hbmg90j579twjxstztgvh0000gn%2FT%2Ftmpoiwluvmt\")</script>\n"
      ],
      "text/plain": [
       "<IPython.core.display.HTML object>"
      ]
     },
     "metadata": {},
     "output_type": "display_data"
    }
   ],
   "source": [
    "%%snakeviz\n",
    "ds_our_cache[0]"
   ]
  },
  {
   "cell_type": "code",
   "execution_count": 20,
   "id": "08b11aa3-ef68-4a56-bcac-ed42e8aa01b5",
   "metadata": {},
   "outputs": [
    {
     "name": "stdout",
     "output_type": "stream",
     "text": [
      " \n",
      "*** Profile stats marshalled to file '/var/folders/1p/dx2hbmg90j579twjxstztgvh0000gn/T/tmp8_ymjtjg'.\n",
      "Embedding SnakeViz in this document...\n"
     ]
    },
    {
     "data": {
      "text/html": [
       "\n",
       "<iframe id='snakeviz-e4518dd2-7280-11ed-9f48-dea99b069103' frameborder=0 seamless width='100%' height='1000'></iframe>\n",
       "<script>document.getElementById(\"snakeviz-e4518dd2-7280-11ed-9f48-dea99b069103\").setAttribute(\"src\", \"http://\" + document.location.hostname + \":8080/snakeviz/%2Fvar%2Ffolders%2F1p%2Fdx2hbmg90j579twjxstztgvh0000gn%2FT%2Ftmp8_ymjtjg\")</script>\n"
      ],
      "text/plain": [
       "<IPython.core.display.HTML object>"
      ]
     },
     "metadata": {},
     "output_type": "display_data"
    }
   ],
   "source": [
    "%%snakeviz\n",
    "ds_our_no_cache[0]"
   ]
  }
 ],
 "metadata": {
  "kernelspec": {
   "display_name": "Python 3 (ipykernel)",
   "language": "python",
   "name": "python3"
  },
  "language_info": {
   "codemirror_mode": {
    "name": "ipython",
    "version": 3
   },
   "file_extension": ".py",
   "mimetype": "text/x-python",
   "name": "python",
   "nbconvert_exporter": "python",
   "pygments_lexer": "ipython3",
   "version": "3.9.13"
  }
 },
 "nbformat": 4,
 "nbformat_minor": 5
}
