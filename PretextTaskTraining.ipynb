{
 "cells": [
  {
   "cell_type": "code",
   "execution_count": 1,
   "metadata": {},
   "outputs": [],
   "source": [
    "%load_ext autoreload\n",
    "%autoreload 2"
   ]
  },
  {
   "cell_type": "code",
   "execution_count": 2,
   "metadata": {},
   "outputs": [],
   "source": [
    "import torch\n",
    "import torch.nn as nn\n",
    "from src.dataset import OurPatchLocalizationDataset, OriginalPatchLocalizationDataset, sample_img_paths\n",
    "from src.models import OriginalPretextNetwork, OurPretextNetwork\n",
    "from src.loss import CustomLoss\n",
    "from src.train_pretext import train_model"
   ]
  },
  {
   "cell_type": "markdown",
   "metadata": {},
   "source": [
    "# Original Pretext Task \n",
    "\n",
    "### Setup\n",
    "Note: To make the data loading process more efficient, we generate __samples_per_image__ random samples at once whenever we load an image. Creating __x__ samples at once from an image is much more efficient than iterating through the entire dataset __x__ times while creating only one sample per image. The \"true\" batch size is thus __samples_per_image__ * __batch_size__."
   ]
  },
  {
   "cell_type": "code",
   "execution_count": 7,
   "metadata": {},
   "outputs": [
    {
     "name": "stdout",
     "output_type": "stream",
     "text": [
      "Device: cuda\n",
      "Number of training images: \t 46000\n",
      "Number of validation images: \t 3100\n"
     ]
    }
   ],
   "source": [
    "device = \"cuda\" if torch.cuda.is_available() else \"cpu\"\n",
    "print(f\"Device: {device}\")\n",
    "\n",
    "img_paths = sample_img_paths(frac=1.0)\n",
    "\n",
    "ds_train = OriginalPatchLocalizationDataset(img_paths=img_paths[:46000], samples_per_image=1)\n",
    "ds_val = OriginalPatchLocalizationDataset(img_paths=img_paths[46000:], samples_per_image=1)\n",
    "\n",
    "print(f\"Number of training images: \\t {len(ds_train)}\")\n",
    "print(f\"Number of validation images: \\t {len(ds_val)}\")\n",
    "\n",
    "train_loader = torch.utils.data.DataLoader(ds_train, batch_size=64, shuffle=True, num_workers=4)\n",
    "val_loader = torch.utils.data.DataLoader(ds_val, batch_size=64, shuffle=False, num_workers=4)\n",
    "\n",
    "model = OriginalPretextNetwork(backbone=\"resnet18\").to(device)\n",
    "criterion = nn.CrossEntropyLoss().to(device)"
   ]
  },
  {
   "cell_type": "markdown",
   "metadata": {},
   "source": [
    "### Training"
   ]
  },
  {
   "cell_type": "code",
   "execution_count": null,
   "metadata": {},
   "outputs": [],
   "source": [
    "train_model(\n",
    "    experiment_id=\"original_pretext_1\",\n",
    "    model=model,    \n",
    "    train_loader=train_loader,\n",
    "    val_loader=val_loader,\n",
    "    device=device,\n",
    "    criterion=criterion,\n",
    "    optimizer=None,\n",
    "    num_epochs=50,\n",
    "    log_frequency=50,\n",
    ")"
   ]
  },
  {
   "cell_type": "markdown",
   "metadata": {},
   "source": [
    "# Our Pretext Task\n",
    "### Setup"
   ]
  },
  {
   "cell_type": "code",
   "execution_count": 5,
   "metadata": {},
   "outputs": [
    {
     "name": "stdout",
     "output_type": "stream",
     "text": [
      "Device: cuda\n",
      "Number of training images: \t 46000\n",
      "Number of validation images: \t 3100\n"
     ]
    }
   ],
   "source": [
    "device = \"cuda\" if torch.cuda.is_available() else \"cpu\"\n",
    "print(f\"Device: {device}\")\n",
    "\n",
    "img_paths = sample_img_paths(frac=1.0)\n",
    "\n",
    "ds_train = OurPatchLocalizationDataset(img_paths=img_paths[:46000], samples_per_image=1)\n",
    "ds_val = OurPatchLocalizationDataset(img_paths=img_paths[46000:], samples_per_image=1)\n",
    "\n",
    "print(f\"Number of training images: \\t {len(ds_train)}\")\n",
    "print(f\"Number of validation images: \\t {len(ds_val)}\")\n",
    "\n",
    "train_loader = torch.utils.data.DataLoader(ds_train, batch_size=64, shuffle=True, num_workers=4)\n",
    "val_loader = torch.utils.data.DataLoader(ds_val, batch_size=64, shuffle=False, num_workers=4)\n",
    "\n",
    "model = OurPretextNetwork(backbone=\"resnet18\").to(device)\n",
    "criterion = CustomLoss(alpha=1.0, symmetric=True).to(device)"
   ]
  },
  {
   "cell_type": "markdown",
   "metadata": {},
   "source": [
    "### Training\n"
   ]
  },
  {
   "cell_type": "code",
   "execution_count": null,
   "metadata": {},
   "outputs": [],
   "source": [
    "train_model(\n",
    "    experiment_id=\"our_pretext_1\",\n",
    "    model=model,\n",
    "    train_loader=train_loader,\n",
    "    val_loader=val_loader,\n",
    "    device=device,\n",
    "    criterion=criterion,\n",
    "    optimizer=None,\n",
    "    num_epochs=50,\n",
    "    log_frequency=50,\n",
    ")"
   ]
  }
 ],
 "metadata": {
  "kernelspec": {
   "display_name": "Python 3 (ipykernel)",
   "language": "python",
   "name": "python3"
  },
  "language_info": {
   "codemirror_mode": {
    "name": "ipython",
    "version": 3
   },
   "file_extension": ".py",
   "mimetype": "text/x-python",
   "name": "python",
   "nbconvert_exporter": "python",
   "pygments_lexer": "ipython3",
   "version": "3.7.13"
  },
  "vscode": {
   "interpreter": {
    "hash": "08949fc8b17ce62f76e34b0da5a995ede9e80a76b5ea84175364736cbf1da20d"
   }
  }
 },
 "nbformat": 4,
 "nbformat_minor": 4
}
