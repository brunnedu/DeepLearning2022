{
 "cells": [
  {
   "cell_type": "code",
   "execution_count": null,
   "metadata": {},
   "outputs": [],
   "source": [
    "%load_ext autoreload\n",
    "%autoreload 2"
   ]
  },
  {
   "cell_type": "code",
   "execution_count": null,
   "metadata": {},
   "outputs": [],
   "source": [
    "import torch\n",
    "import torch.nn as nn\n",
    "from src.dataset import OurPatchLocalizationDataset, OriginalPatchLocalizationDataset, sample_image_paths\n",
    "from src.models import OriginalPretextNetwork, OurPretextNetwork\n",
    "from src.loss import CustomLoss\n",
    "from src.train import train_model"
   ]
  },
  {
   "cell_type": "markdown",
   "metadata": {},
   "source": [
    "# Original Pretext Task \n",
    "\n",
    "### Setup\n",
    "Note: If you run out of memory, set `cache_images=False` in the constructor of the datasets. "
   ]
  },
  {
   "cell_type": "code",
   "execution_count": null,
   "metadata": {},
   "outputs": [],
   "source": [
    "device = \"cuda\" if torch.cuda.is_available() else \"cpu\"\n",
    "print(f\"Device: {device}\")\n",
    "\n",
    "img_paths = sample_image_paths(frac=1.0)\n",
    "ds_train = OriginalPatchLocalizationDataset(image_paths=img_paths[:46000], cache_images=True)\n",
    "ds_val = OriginalPatchLocalizationDataset(image_paths=img_paths[46000:], cache_images=True)\n",
    "\n",
    "print(f\"Number of training images: \\t {len(ds_train)}\")\n",
    "print(f\"Number of validation images: \\t {len(ds_val)}\")\n",
    "\n",
    "model = OriginalPretextNetwork(backbone=\"resnet18\")\n",
    "criterion = nn.CrossEntropyLoss()"
   ]
  },
  {
   "cell_type": "markdown",
   "metadata": {},
   "source": [
    "### Training"
   ]
  },
  {
   "cell_type": "code",
   "execution_count": null,
   "metadata": {},
   "outputs": [],
   "source": [
    "train_model(\n",
    "    experiment_id=\"original_pretext_1\",\n",
    "    model=model,    \n",
    "    ds_train=ds_train,\n",
    "    ds_val=ds_val,\n",
    "    device=device,\n",
    "    criterion=criterion,\n",
    "    optimizer=None,\n",
    "    num_epochs=50,\n",
    "    batch_size=64,\n",
    "    num_workers=4,\n",
    "    log_frequency=50,\n",
    "    resume_from_checkpoint=False,\n",
    ")"
   ]
  },
  {
   "cell_type": "markdown",
   "metadata": {},
   "source": [
    "# Our Pretext Task\n",
    "### Setup"
   ]
  },
  {
   "cell_type": "code",
   "execution_count": null,
   "metadata": {},
   "outputs": [],
   "source": [
    "device = \"cuda\" if torch.cuda.is_available() else \"cpu\"\n",
    "print(f\"Device: {device}\")\n",
    "\n",
    "img_paths = sample_image_paths(frac=1.0)\n",
    "ds_train = OurPatchLocalizationDataset(image_paths=img_paths[:46000], cache_images=True)\n",
    "ds_val = OurPatchLocalizationDataset(image_paths=img_paths[46000:], cache_images=True)\n",
    "\n",
    "print(f\"Number of training images: \\t {len(ds_train)}\")\n",
    "print(f\"Number of validation images: \\t {len(ds_val)}\")\n",
    "\n",
    "model = OurPretextNetwork(backbone=\"resnet18\")\n",
    "criterion = CustomLoss(alpha=1.0, symmetric=True)"
   ]
  },
  {
   "cell_type": "markdown",
   "metadata": {},
   "source": [
    "### Training\n"
   ]
  },
  {
   "cell_type": "code",
   "execution_count": null,
   "metadata": {},
   "outputs": [],
   "source": [
    "train_model(\n",
    "    experiment_id=\"our_pretext_1\",\n",
    "    model=model,    \n",
    "    ds_train=ds_train,\n",
    "    ds_val=ds_val,\n",
    "    device=device,\n",
    "    criterion=criterion,\n",
    "    optimizer=None,\n",
    "    num_epochs=50,\n",
    "    batch_size=64,\n",
    "    num_workers=4,\n",
    "    log_frequency=50,\n",
    "    resume_from_checkpoint=False,\n",
    ")"
   ]
  }
 ],
 "metadata": {
  "kernelspec": {
   "display_name": "Python 3 (ipykernel)",
   "language": "python",
   "name": "python3"
  },
  "language_info": {
   "codemirror_mode": {
    "name": "ipython",
    "version": 3
   },
   "file_extension": ".py",
   "mimetype": "text/x-python",
   "name": "python",
   "nbconvert_exporter": "python",
   "pygments_lexer": "ipython3",
   "version": "3.7.13"
  },
  "vscode": {
   "interpreter": {
    "hash": "08949fc8b17ce62f76e34b0da5a995ede9e80a76b5ea84175364736cbf1da20d"
   }
  }
 },
 "nbformat": 4,
 "nbformat_minor": 4
}
