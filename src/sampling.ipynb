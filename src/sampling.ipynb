{
 "cells": [
  {
   "cell_type": "code",
   "execution_count": 3,
   "metadata": {},
   "outputs": [],
   "source": [
    "import cv2, os, PIL\n",
    "import pandas as pd\n",
    "from torchvision.transforms import ToPILImage\n",
    "\n",
    "from typing import List\n",
    "from tqdm import tqdm"
   ]
  },
  {
   "cell_type": "code",
   "execution_count": null,
   "metadata": {},
   "outputs": [],
   "source": [
    "def load_imagenet_val(folderdir='/Users/elior/Downloads/ILSVRC2012_img_val', \n",
    "                      transform=ToPILImage()\n",
    "                      ) -> List[PIL.Image]:\n",
    "    \"\"\"\n",
    "    Helper function to load ILSVRC2012_img_val dataset.\n",
    "    Parameters\n",
    "    ----------\n",
    "    folderdir\n",
    "        Path to the 'ILSVRC2012_img_val' folder.\n",
    "    transform\n",
    "        A torchvision transform that will be applied to every loaded image.\n",
    "    Returns\n",
    "    -------\n",
    "    List[PIL.Image]\n",
    "        A list of the loaded PIL images.\n",
    "    \"\"\"\n",
    "    all_files = os.listdir(folderdir)\n",
    "    all_files.sort()\n",
    "    \n",
    "    images = []\n",
    "    for filename in tqdm(all_files):\n",
    "    \n",
    "        img = cv2.imread(os.path.join(folderdir, filename))\n",
    "        if img is not None:\n",
    "            images.append(transform(img) if transform else img)\n",
    "\n",
    "    return images"
   ]
  },
  {
   "cell_type": "code",
   "execution_count": null,
   "metadata": {},
   "outputs": [],
   "source": [
    "def stratified_sampling(filedir='/Users/elior/Downloads/ILSVRC2012_devkit_t12/data/ILSVRC2012_validation_ground_truth.txt',\n",
    "                        pct: float = 0.02,\n",
    "                        ) -> pd.DataFrame:\n",
    "    \"\"\"\n",
    "    Helper function to sample the ILSVRC2012_img_val dataset in a stratified method.\n",
    "    Parameters\n",
    "    ----------\n",
    "    folderdir\n",
    "        Path to the 'ILSVRC2012_validation_ground_truth.txt' folder.\n",
    "    pct\n",
    "        Percentage of (image, label) pairs that are kept in the sampling process compared to the initial entire dataset.\n",
    "    Returns\n",
    "    -------\n",
    "    pd.DataFrame\n",
    "        A DataFrame of the sampled PIL images and their associated label.\n",
    "    \"\"\"\n",
    "    # Collect every class label for each image\n",
    "    with open(filedir, 'r') as f:\n",
    "        labels = f.read().splitlines()[0:20001]\n",
    "    \n",
    "    # Gather all images sorted like their associated label\n",
    "    images = load_imagenet_val()\n",
    "    \n",
    "    # Create a Dataframe with the images and labels \n",
    "    merge_dict = {'images':images, 'labels':labels}\n",
    "    df = pd.DataFrame(merge_dict)\n",
    "    \n",
    "    # Return a stratified sample of the dataset\n",
    "    return df.groupby('labels', group_keys=False).apply(lambda x: x.sample(frac=pct, replace=False))\n"
   ]
  },
  {
   "cell_type": "code",
   "execution_count": null,
   "metadata": {},
   "outputs": [],
   "source": [
    "# Create the subset\n",
    "subset = stratified_sampling(pct=0.1)\n",
    "\n",
    "# Open first five images\n",
    "for i in range(len(5)):\n",
    "    subset.loc[i].at['images'].show()"
   ]
  }
 ],
 "metadata": {
  "kernelspec": {
   "display_name": "Python 3.10.6 ('lab3env')",
   "language": "python",
   "name": "python3"
  },
  "language_info": {
   "codemirror_mode": {
    "name": "ipython",
    "version": 3
   },
   "file_extension": ".py",
   "mimetype": "text/x-python",
   "name": "python",
   "nbconvert_exporter": "python",
   "pygments_lexer": "ipython3",
   "version": "3.10.6"
  },
  "orig_nbformat": 4,
  "vscode": {
   "interpreter": {
    "hash": "84e600934ffbbe2209d8e89626623f3fd0f260208247b0683101cccee1a1fe4e"
   }
  }
 },
 "nbformat": 4,
 "nbformat_minor": 2
}
